{
 "cells": [
  {
   "cell_type": "code",
   "execution_count": 1,
   "metadata": {},
   "outputs": [],
   "source": [
    "import torch\n",
    "import numpy\n",
    "from sklearn.datasets import make_blobs\n",
    "import matplotlib.pyplot as plt"
   ]
  },
  {
   "cell_type": "code",
   "execution_count": 14,
   "metadata": {},
   "outputs": [],
   "source": [
    "#make_blobs() 각 데이터 한 점이 몇 번째 클러스터에 속해있는지 알려주는 인덱스 레이블을 만들어낸다.\n",
    "# 우리가 학습시킬 신경망은 두 가지 레이블만 예측하는 모델\n",
    "n_dim = 2\n",
    "x_train, y_train = make_blobs(n_samples=80, n_features=n_dim, centers=[[1,1],[-1,-1],[1,-1],[-1,1]], shuffle=True, cluster_std=0.3)\n",
    "x_test, y_test = make_blobs(n_samples=20, n_features=n_dim, centers = [[1,1], [-1,-1],[1,-1],[-1,1]], shuffle=True, cluster_std=0.3)"
   ]
  },
  {
   "cell_type": "code",
   "execution_count": 15,
   "metadata": {},
   "outputs": [
    {
     "name": "stdout",
     "output_type": "stream",
     "text": [
      "[3 1 2 3 2 1 0 0 0 3 0 0 3 3 0 3 3 3 1 0 0 1 2 3 1 1 1 2 2 2 0 3 2 3 3 0 1\n",
      " 1 3 2 1 2 2 0 2 2 1 1 2 1 1 0 3 2 0 0 1 0 2 0 3 2 0 2 1 2 2 1 3 0 0 3 1 1\n",
      " 0 3 3 2 1 3]\n",
      "\n",
      "[1 0 1 1 1 0 0 0 0 1 0 0 1 1 0 1 1 1 0 0 0 0 1 1 0 0 0 1 1 1 0 1 1 1 1 0 0\n",
      " 0 1 1 0 1 1 0 1 1 0 0 1 0 0 0 1 1 0 0 0 0 1 0 1 1 0 1 0 1 1 0 1 0 0 1 0 0\n",
      " 0 1 1 1 0 1]\n"
     ]
    }
   ],
   "source": [
    "# label_map()이라는 함수를 구현해 \n",
    "# 0번이나 1번을 레이블로 가진 데이터는 0번 레이블을 갖도록\n",
    "# 2번이나 3번을 레이블로 가진 데이터는 1번 레이블을 갖도록\n",
    "\n",
    "def label_map(y_, from_, to_):\n",
    "    y = numpy.copy(y_)\n",
    "    for f in from_:\n",
    "        y[y_ == f] = to_\n",
    "    return y\n",
    "\n",
    "print(y_train)\n",
    "y_train = label_map(y_train, [0,1], 0)\n",
    "y_train = label_map(y_train, [2,3], 1)\n",
    "y_test = label_map(y_test, [0,1], 0)\n",
    "y_test = label_map(y_test, [2,3], 1)\n",
    "print()\n",
    "print(y_train)"
   ]
  },
  {
   "cell_type": "code",
   "execution_count": 21,
   "metadata": {},
   "outputs": [
    {
     "data": {
      "image/png": "[encoded data removed]",
      "text/plain": [
       "<Figure size 432x288 with 1 Axes>"
      ]
     },
     "metadata": {
      "needs_background": "light"
     },
     "output_type": "display_data"
    }
   ],
   "source": [
    "# 데이터가 제대로 만들어지고 레이블링 되었는지 확인 -> 맷플롯립 시각화\n",
    "# 레이블이 0인 데이터는 점(.), 1인 데이터는 십자(+)\n",
    "\n",
    "def vis_data(x,y = None, c='r'):\n",
    "    if y is None:\n",
    "        y = [None] * len(x)\n",
    "    # print(y)\n",
    "    for x_, y_ in zip(x,y):\n",
    "        if y_ is None:\n",
    "            plt.plot(x_[0], x_[1], '*', markerfacecolor='none',\n",
    "            markeredgecolor=c)\n",
    "            \n",
    "        else:\n",
    "            plt.plot(x_[0], x_[1], c+'o' if y_ == 0 else c+'+')\n",
    "\n",
    "plt.figure\n",
    "vis_data(x_train, y_train, c='b')\n",
    "plt.show()\n"
   ]
  },
  {
   "cell_type": "code",
   "execution_count": 25,
   "metadata": {},
   "outputs": [
    {
     "name": "stdout",
     "output_type": "stream",
     "text": [
      "torch.Size([80, 2])\n",
      "torch.Size([20, 2])\n",
      "torch.Size([80])\n",
      "torch.Size([20])\n"
     ]
    }
   ],
   "source": [
    "x_train = torch.FloatTensor(x_train)\n",
    "x_test = torch.FloatTensor(x_test)\n",
    "y_train = torch.FloatTensor(y_train)\n",
    "y_test = torch.FloatTensor(y_test)\n",
    "print(x_train.shape)\n",
    "print(x_test.shape)\n",
    "print(y_train.shape)\n",
    "print(y_test.shape)"
   ]
  },
  {
   "cell_type": "code",
   "execution_count": 31,
   "metadata": {},
   "outputs": [],
   "source": [
    "class NeuralNet(torch.nn.Module):\n",
    "    def __init__(self, input_size, hidden_size):\n",
    "        super(NeuralNet, self).__init__()\n",
    "        self.input_size = input_size\n",
    "        self.hidden_size = hidden_size\n",
    "        self.linear_1 = torch.nn.Linear(self.input_size, self.hidden_size)\n",
    "        self.relu = torch.nn.ReLU()\n",
    "        self.linear_2 = torch.nn.Linear(self.hidden_size, 1)\n",
    "        self.sigmoid = torch.nn.Sigmoid()\n",
    "\n",
    "\n",
    "    def forward(self, input_tensor):\n",
    "        linear1 = self.linear_1(input_tensor)\n",
    "        relu = self.relu(linear1)\n",
    "        linear2 = self.linear_2(relu)\n",
    "        output = self.sigmoid(linear2)\n",
    "        return output"
   ]
  },
  {
   "cell_type": "code",
   "execution_count": 32,
   "metadata": {},
   "outputs": [],
   "source": [
    "model = NeuralNet(2,5)\n",
    "learning_rate = 0.03\n",
    "# 파이토치가 제공하는 여러 오차 함수 criterion\n",
    "# 이진교차엔트로피 BCELoss()\n",
    "criterion = torch.nn.BCELoss()\n",
    "# 전체 학습 데이터를 총 몇 번 모델에 입력할지 결정하는 변수\n",
    "epochs = 2000\n",
    "# 확률적 경사하강법\n",
    "# optimizer는 step() 함수를 부를 때마다 가중치 학습률만큼 갱신\n",
    "optimizer = torch.optim.SGD(model.parameters(), lr = learning_rate)"
   ]
  },
  {
   "cell_type": "code",
   "execution_count": 33,
   "metadata": {},
   "outputs": [
    {
     "name": "stdout",
     "output_type": "stream",
     "text": [
      "Before Training, test loss is 0.6929154992103577\n"
     ]
    }
   ],
   "source": [
    "model.eval()\n",
    "test_loss_before = criterion(model(x_test).squeeze(), y_test)\n",
    "print(\"Before Training, test loss is {}\".format(test_loss_before.item()))"
   ]
  },
  {
   "cell_type": "code",
   "execution_count": 34,
   "metadata": {},
   "outputs": [
    {
     "name": "stdout",
     "output_type": "stream",
     "text": [
      "Train loss at 0 is 0.6935779452323914\n",
      "Train loss at 100 is 0.638884425163269\n",
      "Train loss at 200 is 0.5556797385215759\n",
      "Train loss at 300 is 0.45020800828933716\n",
      "Train loss at 400 is 0.33917754888534546\n",
      "Train loss at 500 is 0.23787550628185272\n",
      "Train loss at 600 is 0.16487973928451538\n",
      "Train loss at 700 is 0.11938955634832382\n",
      "Train loss at 800 is 0.09098783135414124\n",
      "Train loss at 900 is 0.07235624641180038\n",
      "Train loss at 1000 is 0.05948755890130997\n",
      "Train loss at 1100 is 0.05019604414701462\n",
      "Train loss at 1200 is 0.04324468970298767\n",
      "Train loss at 1300 is 0.03786718100309372\n",
      "Train loss at 1400 is 0.033601064234972\n",
      "Train loss at 1500 is 0.030155036598443985\n",
      "Train loss at 1600 is 0.027315258979797363\n",
      "Train loss at 1700 is 0.0249374620616436\n",
      "Train loss at 1800 is 0.02292066439986229\n",
      "Train loss at 1900 is 0.021191569045186043\n"
     ]
    }
   ],
   "source": [
    "for epoch in range(epochs):\n",
    "    model.train()\n",
    "    optimizer.zero_grad()\n",
    "    train_output = model(x_train)\n",
    "    train_loss = criterion(train_output.squeeze(), y_train)\n",
    "    if epoch%100 == 0:\n",
    "        print(f'Train loss at {epoch} is {train_loss.item()}')\n",
    "    train_loss.backward()\n",
    "    optimizer.step()"
   ]
  },
  {
   "cell_type": "code",
   "execution_count": 35,
   "metadata": {},
   "outputs": [
    {
     "name": "stdout",
     "output_type": "stream",
     "text": [
      "After Training, test loss is 0.024274561554193497\n"
     ]
    }
   ],
   "source": [
    "model.eval()\n",
    "test_loss = criterion(torch.squeeze(model(x_test)), y_test)\n",
    "print(f'After Training, test loss is {test_loss.item()}')"
   ]
  },
  {
   "cell_type": "code",
   "execution_count": 36,
   "metadata": {},
   "outputs": [
    {
     "name": "stdout",
     "output_type": "stream",
     "text": [
      "state_dict format of the model: OrderedDict([('linear_1.weight', tensor([[-1.3895,  1.5698],\n",
      "        [ 0.5385,  0.4347],\n",
      "        [-1.5466, -1.3803],\n",
      "        [ 1.5477,  1.4156],\n",
      "        [ 1.4747, -1.3558]])), ('linear_1.bias', tensor([ 0.0404, -0.1263,  0.0246, -0.2210,  0.1246])), ('linear_2.weight', tensor([[ 2.0576, -0.5942, -1.8743, -2.0313,  1.8646]])), ('linear_2.bias', tensor([-0.1986]))])\n"
     ]
    }
   ],
   "source": [
    "torch.save(model.state_dict(), './model.pt')\n",
    "print(f'state_dict format of the model: {model.state_dict()}')"
   ]
  },
  {
   "cell_type": "code",
   "execution_count": 38,
   "metadata": {},
   "outputs": [
    {
     "name": "stdout",
     "output_type": "stream",
     "text": [
      "벡터 [-1, 1]이 레이블 1을 가질 확률은 0.9963733553886414\n"
     ]
    }
   ],
   "source": [
    "new_model = NeuralNet(2, 5)\n",
    "new_model.load_state_dict(torch.load('./model.pt'))\n",
    "new_model.eval()\n",
    "print(f'벡터 [-1, 1]이 레이블 1을 가질 확률은 {(new_model(torch.FloatTensor([-1, 1]))).item()}')"
   ]
  },
  {
   "cell_type": "code",
   "execution_count": null,
   "metadata": {},
   "outputs": [],
   "source": []
  }
 ],
 "metadata": {
  "interpreter": {
   "hash": "5b3ded1ccb95c1d9bd405e7b823d9e85424cde40fbb5985eb47e999ef50e15b4"
  },
  "kernelspec": {
   "display_name": "Python 3.8.10 64-bit",
   "language": "python",
   "name": "python3"
  },
  "language_info": {
   "codemirror_mode": {
    "name": "ipython",
    "version": 3
   },
   "file_extension": ".py",
   "mimetype": "text/x-python",
   "name": "python",
   "nbconvert_exporter": "python",
   "pygments_lexer": "ipython3",
   "version": "3.8.10"
  },
  "orig_nbformat": 4
 },
 "nbformat": 4,
 "nbformat_minor": 2
}
