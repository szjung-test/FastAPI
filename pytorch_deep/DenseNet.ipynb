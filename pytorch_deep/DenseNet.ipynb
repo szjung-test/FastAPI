{
 "cells": [
  {
   "cell_type": "code",
   "execution_count": null,
   "metadata": {},
   "outputs": [],
   "source": [
    "class Dense_Net_Block(nn.module):\n",
    "    def __init__(self, in_channels):\n",
    "        super(Dense_Net_Block, self).__init__()\n",
    "        self.relu = nn.ReLu(inplace = True)\n",
    "        self.bn = nn.BatchNorm2d(num_channels = in_channels)\n",
    "\n",
    "        self.conv1 = nn.Conv2d(in_channels = in_channels, out_channels = 32, kernel_size = 3, stride = 1, padding = 1)\n",
    "        self.conv2 = nn.Conv2d(in_channels = 32, out_channels = 32, kernel_size = 3, stride = 1, padding = 1)\n",
    "        self.conv3 = nn.Conv2d(in_channels = 64, out_channels = 64, kernel_size = 3, stride = 1, padding = 1)\n",
    "        self.conv4 = nn.Conv2d(in_channels = 96, out_channels = 96, kernel_size = 3, stride = 1, padding = 1)\n",
    "        self.conv5 = nn.Conv2d(in_channels = 128, out_channels = 128, kernel_size = 3, stride = 1, padding = 1)\n",
    "\n",
    "\n",
    "    def forward(self, x):\n",
    "        bn = self.bn(x) conv1 = self.relu(self.conv1(bn))\n",
    "        conv2 = self.relu(self.conv2(conv1))\n",
    "        c2_dense = self.relu(torch.cat([conv1, conv2], 1))\n",
    "\n",
    "        conv3 = self.relu(self.conv3(c2_dense))\n",
    "        c3_dense = self.relu(torch.cat([conv1, conv2, conv3], 1))\n",
    "\n",
    "        conv4 = self.relu(self.conv4(c3_dense))\n",
    "        c4_dense = self.relu(torch.cat([conv1,conv2,conv3,conv4], 1))\n",
    "\n",
    "        conv5 = self.relu(self.conv5(c4_dense))\n",
    "        c5_dense = self.relu(torch.cat([conv1,conv2,conv3,conv4, conv5], 1))\n",
    "\n",
    "        return c5_dense"
   ]
  },
  {
   "cell_type": "markdown",
   "metadata": {},
   "source": [
    "출처 : https://velog.io/@datapro9207/%EB%85%BC%EB%AC%B8%EB%A6%AC%EB%B7%B0-SRDenseNet"
   ]
  }
 ],
 "metadata": {
  "language_info": {
   "name": "python"
  },
  "orig_nbformat": 4
 },
 "nbformat": 4,
 "nbformat_minor": 2
}
